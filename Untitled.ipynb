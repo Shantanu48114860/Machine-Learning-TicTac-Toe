{
 "cells": [
  {
   "cell_type": "code",
   "execution_count": 2,
   "metadata": {},
   "outputs": [
    {
     "name": "stdout",
     "output_type": "stream",
     "text": [
      "[[0.81006984 0.74633847]\n",
      " [0.5782507  0.75819754]\n",
      " [0.26824813 0.17007893]\n",
      " [0.62507737 0.25462795]\n",
      " [0.09988319 0.60086231]\n",
      " [0.61921552 0.05127197]\n",
      " [0.98606894 0.74203039]\n",
      " [0.92586308 0.5458653 ]\n",
      " [0.0857859  0.50603484]\n",
      " [0.56704179 0.61440747]]\n",
      "[[0.3815884 ]\n",
      " [0.21091192]]\n"
     ]
    },
    {
     "data": {
      "text/plain": [
       "<Figure size 640x480 with 1 Axes>"
      ]
     },
     "metadata": {},
     "output_type": "display_data"
    }
   ],
   "source": [
    "import numpy as np\n",
    "import matplotlib.pyplot as plt\n",
    "\n",
    "# Random data\n",
    "N = 10\n",
    "M = 2\n",
    "input = np.random.random((N,M))\n",
    "print(input )\n",
    "\n",
    "# Setup matrices\n",
    "m = np.shape(input)[0]\n",
    "X = np.matrix([np.ones(m), input[:,0]]).T\n",
    "y = np.matrix(input[:,1]).T\n",
    "\n",
    "# Solve for projection matrix\n",
    "p_mat = np.linalg.inv(X.T.dot(X)).dot(X.T).dot(y)\n",
    "print(p_mat)\n",
    "\n",
    "# Find regression line\n",
    "xx = np.linspace(0, 1, 2)\n",
    "yy = np.array(p_mat[0] + p_mat[1] * xx)\n",
    "\n",
    "# Plot data, regression line\n",
    "plt.figure(1)\n",
    "plt.plot(xx, yy.T, color='b')\n",
    "plt.scatter(input[:,0], input[:,1], color='r')\n",
    "plt.show()"
   ]
  },
  {
   "cell_type": "code",
   "execution_count": 46,
   "metadata": {},
   "outputs": [],
   "source": [
    "from sklearn.model_selection import StratifiedKFold\n",
    "\n",
    "\n",
    "from dataloader import DataLoader\n",
    "\n",
    "\n",
    "class ML_Algo:\n",
    "    \n",
    "\n",
    "    def execute_regressor(self, final_dataset_path, split_size):\n",
    "        dL = DataLoader()\n",
    "        np_X_train, np_X_test, np_Y_train, np_Y_test = \\\n",
    "            dL.preprocess_data_from_csv_multi(final_dataset_path, split_size)\n",
    "        lin_reg = Linear_regressor()\n",
    "\n",
    "        print(\"1. Linear regressor\")\n",
    "        lin_reg.do_lin_reg(np_X_train, np_X_test, np_Y_train, np_Y_test)\n",
    "\n",
    "\n"
   ]
  },
  {
   "cell_type": "code",
   "execution_count": 47,
   "metadata": {},
   "outputs": [
    {
     "name": "stdout",
     "output_type": "stream",
     "text": [
      "################################################################################\n",
      "--> Multi class classification move dataset: <--\n",
      ".. Data Loading ..\n",
      "ps_np_covariates_X: (6551, 9)\n",
      "ps_np_treatment_Y: (6551, 9)\n",
      "np_covariates_X_train: (5240, 9)\n",
      "np_covariates_Y_train: (5240, 9)\n",
      "np_covariates_X_test: (1311, 9)\n",
      "np_covariates_Y_test: (1311, 9)\n",
      "1. Linear regressor\n",
      "Y_true shape: (1311, 9)\n",
      "Cost after iteration 0: 1.9483038892953295\n",
      "Cost after iteration 50: 1.9053601431223404\n",
      "Cost after iteration 100: 1.866659447241596\n",
      "Cost after iteration 150: 1.8317808608049873\n",
      "Cost after iteration 200: 1.8003453095661208\n",
      "Cost after iteration 250: 1.772011415115115\n",
      "Cost after iteration 300: 1.7464717400358207\n",
      "Cost after iteration 350: 1.7234494074806772\n",
      "Cost after iteration 400: 1.7026950578019695\n",
      "Cost after iteration 450: 1.6839841086080087\n",
      "(9, 9)\n",
      "Y_true shape: (1311, 9)\n",
      "Y_pred shape: (1311, 9)\n",
      "[0. 1. 0. 0. 0. 0. 1. 1. 0.]\n",
      "[0.12668079 0.09965621 0.11617653 0.085061   0.14057202 0.07812002\n",
      " 0.11172899 0.08604145 0.1072252 ]\n",
      "SKlearn Mean squared error: 0.19\n",
      "SKlearn Mean squared error: 0.17\n",
      "[0. 1. 0. 0. 0. 0. 1. 1. 0.]\n",
      "[0.26925326 0.19456007 0.23367371 0.14186168 0.29310271 0.11325761\n",
      " 0.22762877 0.14117105 0.21393591]\n"
     ]
    }
   ],
   "source": [
    "\n",
    "print(\"####\" * 20)\n",
    "print(\"--> Multi class classification move dataset: <--\")\n",
    "final_dataset_path = \"datasets-part1/tictac_multi.txt\"\n",
    "split_size = 0.8\n",
    "algo = ML_Algo()\n",
    "algo.execute_regressor(final_dataset_path, split_size)"
   ]
  },
  {
   "cell_type": "code",
   "execution_count": 20,
   "metadata": {},
   "outputs": [
    {
     "data": {
      "text/plain": [
       "4"
      ]
     },
     "execution_count": 20,
     "metadata": {},
     "output_type": "execute_result"
    }
   ],
   "source": [
    "from sklearn.metrics import accuracy_score\n",
    "import numpy as np\n",
    "accuracy_score([0, 10, 1, 1, 1], [0, 1, 1, 1,1], normalize=False)"
   ]
  },
  {
   "cell_type": "code",
   "execution_count": 19,
   "metadata": {},
   "outputs": [
    {
     "name": "stdout",
     "output_type": "stream",
     "text": [
      "[[  1.   3.]\n",
      " [355.   5.]\n",
      " [ 22.   1.]]\n"
     ]
    }
   ],
   "source": [
    "a = np.array([[1.02, 2.97],[355.01, 4.99], [22, 1]])\n",
    "a = np.around(a)\n",
    "print(a)"
   ]
  }
 ],
 "metadata": {
  "kernelspec": {
   "display_name": "Python 3",
   "language": "python",
   "name": "python3"
  },
  "language_info": {
   "codemirror_mode": {
    "name": "ipython",
    "version": 3
   },
   "file_extension": ".py",
   "mimetype": "text/x-python",
   "name": "python",
   "nbconvert_exporter": "python",
   "pygments_lexer": "ipython3",
   "version": "3.7.3"
  }
 },
 "nbformat": 4,
 "nbformat_minor": 2
}
